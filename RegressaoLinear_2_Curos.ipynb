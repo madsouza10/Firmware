{
  "nbformat": 4,
  "nbformat_minor": 0,
  "metadata": {
    "colab": {
      "name": "Untitled3.ipynb",
      "version": "0.3.2",
      "provenance": [],
      "include_colab_link": true
    },
    "kernelspec": {
      "name": "python3",
      "display_name": "Python 3"
    }
  },
  "cells": [
    {
      "cell_type": "markdown",
      "metadata": {
        "id": "view-in-github",
        "colab_type": "text"
      },
      "source": [
        "<a href=\"https://colab.research.google.com/github/madsouza10/Firmware/blob/master/RegressaoLinear_2_Curos.ipynb\" target=\"_parent\"><img src=\"https://colab.research.google.com/assets/colab-badge.svg\" alt=\"Open In Colab\"/></a>"
      ]
    },
    {
      "cell_type": "code",
      "metadata": {
        "id": "RNf05wpefVLt",
        "colab_type": "code",
        "colab": {}
      },
      "source": [
        "import numpy as np"
      ],
      "execution_count": 0,
      "outputs": []
    },
    {
      "cell_type": "code",
      "metadata": {
        "id": "gdAeoPtffxRD",
        "colab_type": "code",
        "colab": {
          "base_uri": "https://localhost:8080/",
          "height": 185
        },
        "outputId": "cc7b7516-c7f1-46d3-9473-dbc0e4217546"
      },
      "source": [
        "X = np.array( [[18], [23], [28], [33], [38], [43], [48], [53], [58], [63] ])\n",
        "X"
      ],
      "execution_count": 2,
      "outputs": [
        {
          "output_type": "execute_result",
          "data": {
            "text/plain": [
              "array([[18],\n",
              "       [23],\n",
              "       [28],\n",
              "       [33],\n",
              "       [38],\n",
              "       [43],\n",
              "       [48],\n",
              "       [53],\n",
              "       [58],\n",
              "       [63]])"
            ]
          },
          "metadata": {
            "tags": []
          },
          "execution_count": 2
        }
      ]
    },
    {
      "cell_type": "code",
      "metadata": {
        "id": "foPjjo2yfz9B",
        "colab_type": "code",
        "colab": {
          "base_uri": "https://localhost:8080/",
          "height": 185
        },
        "outputId": "f0d6b174-b63d-46d8-a9cd-3de6426cac49"
      },
      "source": [
        "y = np.array([[871], [1132], [1042], [1356], [1488], [1638], [1569], [1754], [1866], [1900]])\n",
        "y"
      ],
      "execution_count": 3,
      "outputs": [
        {
          "output_type": "execute_result",
          "data": {
            "text/plain": [
              "array([[ 871],\n",
              "       [1132],\n",
              "       [1042],\n",
              "       [1356],\n",
              "       [1488],\n",
              "       [1638],\n",
              "       [1569],\n",
              "       [1754],\n",
              "       [1866],\n",
              "       [1900]])"
            ]
          },
          "metadata": {
            "tags": []
          },
          "execution_count": 3
        }
      ]
    },
    {
      "cell_type": "code",
      "metadata": {
        "id": "TzQNiz8ZgTJ2",
        "colab_type": "code",
        "colab": {}
      },
      "source": [
        "from sklearn.preprocessing import StandardScaler\n",
        "Scaler_X =  StandardScaler()\n",
        "X = Scaler_X.fit_transform(X)"
      ],
      "execution_count": 0,
      "outputs": []
    },
    {
      "cell_type": "code",
      "metadata": {
        "id": "QxYdkmiBhZ_B",
        "colab_type": "code",
        "colab": {
          "base_uri": "https://localhost:8080/",
          "height": 185
        },
        "outputId": "2566a0a9-4754-41f0-9843-04b8105787be"
      },
      "source": [
        "X"
      ],
      "execution_count": 5,
      "outputs": [
        {
          "output_type": "execute_result",
          "data": {
            "text/plain": [
              "array([[-1.5666989 ],\n",
              "       [-1.21854359],\n",
              "       [-0.87038828],\n",
              "       [-0.52223297],\n",
              "       [-0.17407766],\n",
              "       [ 0.17407766],\n",
              "       [ 0.52223297],\n",
              "       [ 0.87038828],\n",
              "       [ 1.21854359],\n",
              "       [ 1.5666989 ]])"
            ]
          },
          "metadata": {
            "tags": []
          },
          "execution_count": 5
        }
      ]
    },
    {
      "cell_type": "code",
      "metadata": {
        "id": "qJ-OuPGIhe_Z",
        "colab_type": "code",
        "colab": {
          "base_uri": "https://localhost:8080/",
          "height": 185
        },
        "outputId": "6dcd8f67-cd04-47cb-fef7-149da1537219"
      },
      "source": [
        "Scaler_y = StandardScaler()\n",
        "y = Scaler_y.fit_transform(y)\n",
        "y"
      ],
      "execution_count": 7,
      "outputs": [
        {
          "output_type": "execute_result",
          "data": {
            "text/plain": [
              "array([[-1.75751985],\n",
              "       [-0.98083058],\n",
              "       [-1.24865447],\n",
              "       [-0.31424669],\n",
              "       [ 0.07856167],\n",
              "       [ 0.52493481],\n",
              "       [ 0.31960317],\n",
              "       [ 0.87013004],\n",
              "       [ 1.20342199],\n",
              "       [ 1.3045999 ]])"
            ]
          },
          "metadata": {
            "tags": []
          },
          "execution_count": 7
        }
      ]
    },
    {
      "cell_type": "code",
      "metadata": {
        "id": "Rpznf3CHh4PN",
        "colab_type": "code",
        "colab": {
          "base_uri": "https://localhost:8080/",
          "height": 286
        },
        "outputId": "0cadbd9e-dac3-45a7-e56f-d09c9348fd55"
      },
      "source": [
        "import matplotlib.pyplot as plt\n",
        "plt.scatter(X, y)"
      ],
      "execution_count": 8,
      "outputs": [
        {
          "output_type": "execute_result",
          "data": {
            "text/plain": [
              "<matplotlib.collections.PathCollection at 0x7f883e84e400>"
            ]
          },
          "metadata": {
            "tags": []
          },
          "execution_count": 8
        },
        {
          "output_type": "display_data",
          "data": {
            "image/png": "[encoded data removed]",
            "text/plain": [
              "<Figure size 432x288 with 1 Axes>"
            ]
          },
          "metadata": {
            "tags": []
          }
        }
      ]
    },
    {
      "cell_type": "code",
      "metadata": {
        "id": "tq348HHtiPBn",
        "colab_type": "code",
        "colab": {}
      },
      "source": [
        "#formula de regressão linear simple\n",
        "#y =b0 + b1 * x"
      ],
      "execution_count": 0,
      "outputs": []
    },
    {
      "cell_type": "code",
      "metadata": {
        "id": "3d5WmEhQi0Ly",
        "colab_type": "code",
        "colab": {
          "base_uri": "https://localhost:8080/",
          "height": 34
        },
        "outputId": "3d408d0b-2b4c-4341-95d3-6fcbdb00e90d"
      },
      "source": [
        "np.random.seed(0)\n",
        "np.random.rand(2)"
      ],
      "execution_count": 9,
      "outputs": [
        {
          "output_type": "execute_result",
          "data": {
            "text/plain": [
              "array([0.5488135 , 0.71518937])"
            ]
          },
          "metadata": {
            "tags": []
          },
          "execution_count": 9
        }
      ]
    },
    {
      "cell_type": "code",
      "metadata": {
        "id": "xLfD6HWMjGXg",
        "colab_type": "code",
        "colab": {}
      },
      "source": [
        "import tensorflow as tf"
      ],
      "execution_count": 0,
      "outputs": []
    },
    {
      "cell_type": "code",
      "metadata": {
        "id": "UKTYCPuJjGq6",
        "colab_type": "code",
        "colab": {}
      },
      "source": [
        "b0 = tf.Variable(0.54)\n",
        "b1 = tf.Variable(0.71)"
      ],
      "execution_count": 0,
      "outputs": []
    },
    {
      "cell_type": "code",
      "metadata": {
        "id": "E8SnVUu3jQ76",
        "colab_type": "code",
        "colab": {}
      },
      "source": [
        "erro = tf.losses.mean_squared_error(y, (b0 + b1*X))\n",
        "otimizador = tf.train.GradientDescentOptimizer(learning_rate = 0.001)\n",
        "treinamento = otimizador.minimize(erro)\n",
        "init = tf.global_variables_initializer()"
      ],
      "execution_count": 0,
      "outputs": []
    },
    {
      "cell_type": "code",
      "metadata": {
        "id": "hCQP8quIlXaG",
        "colab_type": "code",
        "colab": {}
      },
      "source": [
        "with tf.Session() as sess:\n",
        "  sess.run(init)\n",
        "  #print(sess.run(b0))\n",
        "  #print(sess.run(b1))\n",
        "  for i in range(1000):\n",
        "     sess.run(treinamento)\n",
        "  b0_final, b1_final = sess.run([b0, b1])"
      ],
      "execution_count": 0,
      "outputs": []
    },
    {
      "cell_type": "code",
      "metadata": {
        "id": "RCKIOHV1pJFJ",
        "colab_type": "code",
        "colab": {}
      },
      "source": [
        "b"
      ],
      "execution_count": 0,
      "outputs": []
    },
    {
      "cell_type": "code",
      "metadata": {
        "id": "Sp-4nLwGpJWF",
        "colab_type": "code",
        "colab": {
          "base_uri": "https://localhost:8080/",
          "height": 34
        },
        "outputId": "34978a8f-0a8f-42ac-ff98-f3cc5157dc93"
      },
      "source": [
        "b0_final"
      ],
      "execution_count": 24,
      "outputs": [
        {
          "output_type": "execute_result",
          "data": {
            "text/plain": [
              "0.07293497"
            ]
          },
          "metadata": {
            "tags": []
          },
          "execution_count": 24
        }
      ]
    },
    {
      "cell_type": "code",
      "metadata": {
        "id": "a06MFujzpNpy",
        "colab_type": "code",
        "colab": {
          "base_uri": "https://localhost:8080/",
          "height": 34
        },
        "outputId": "e56010ef-d861-4400-a47d-a8dc63da1a05"
      },
      "source": [
        "b1_final"
      ],
      "execution_count": 25,
      "outputs": [
        {
          "output_type": "execute_result",
          "data": {
            "text/plain": [
              "0.9359134"
            ]
          },
          "metadata": {
            "tags": []
          },
          "execution_count": 25
        }
      ]
    },
    {
      "cell_type": "code",
      "metadata": {
        "id": "JhCOaNehpPvW",
        "colab_type": "code",
        "colab": {
          "base_uri": "https://localhost:8080/",
          "height": 185
        },
        "outputId": "494e1c33-a732-4ea8-f409-3382a1ce21a3"
      },
      "source": [
        "previsoes = b0_final + b1_final*X\n",
        "previsoes"
      ],
      "execution_count": 26,
      "outputs": [
        {
          "output_type": "execute_result",
          "data": {
            "text/plain": [
              "array([[-1.3933595 ],\n",
              "       [-1.06751629],\n",
              "       [-0.74167307],\n",
              "       [-0.41582985],\n",
              "       [-0.08998664],\n",
              "       [ 0.23585658],\n",
              "       [ 0.56169979],\n",
              "       [ 0.88754301],\n",
              "       [ 1.21338623],\n",
              "       [ 1.53922944]])"
            ]
          },
          "metadata": {
            "tags": []
          },
          "execution_count": 26
        }
      ]
    },
    {
      "cell_type": "code",
      "metadata": {
        "id": "h277Jqf0pYy7",
        "colab_type": "code",
        "colab": {
          "base_uri": "https://localhost:8080/",
          "height": 34
        },
        "outputId": "33c39c54-0520-47f8-9e6b-0bca79bb6c27"
      },
      "source": [
        "type(previsoes)"
      ],
      "execution_count": 27,
      "outputs": [
        {
          "output_type": "execute_result",
          "data": {
            "text/plain": [
              "numpy.ndarray"
            ]
          },
          "metadata": {
            "tags": []
          },
          "execution_count": 27
        }
      ]
    },
    {
      "cell_type": "code",
      "metadata": {
        "id": "fhtzatkMpcx8",
        "colab_type": "code",
        "colab": {
          "base_uri": "https://localhost:8080/",
          "height": 286
        },
        "outputId": "bd7e283e-a163-4df0-f7b8-730ca7e97d82"
      },
      "source": [
        "plt.plot(X, previsoes, color = 'red')\n",
        "plt.plot(X,y,'o')"
      ],
      "execution_count": 31,
      "outputs": [
        {
          "output_type": "execute_result",
          "data": {
            "text/plain": [
              "[<matplotlib.lines.Line2D at 0x7f88231d62e8>]"
            ]
          },
          "metadata": {
            "tags": []
          },
          "execution_count": 31
        },
        {
          "output_type": "display_data",
          "data": {
            "image/png": "[encoded data removed]",
            "text/plain": [
              "<Figure size 432x288 with 1 Axes>"
            ]
          },
          "metadata": {
            "tags": []
          }
        }
      ]
    },
    {
      "cell_type": "code",
      "metadata": {
        "id": "rddVLA3iqERm",
        "colab_type": "code",
        "colab": {
          "base_uri": "https://localhost:8080/",
          "height": 34
        },
        "outputId": "31d4b889-6f9e-4664-cb20-be284ff0a8c8"
      },
      "source": [
        "Scaler_X.transform([[40]])"
      ],
      "execution_count": 36,
      "outputs": [
        {
          "output_type": "execute_result",
          "data": {
            "text/plain": [
              "array([[-0.03481553]])"
            ]
          },
          "metadata": {
            "tags": []
          },
          "execution_count": 36
        }
      ]
    },
    {
      "cell_type": "code",
      "metadata": {
        "id": "_SDRkflfpc2n",
        "colab_type": "code",
        "colab": {}
      },
      "source": [
        "previsao= Scaler_y.inverse_transform(b0_final + b1_final*Scaler_X.transform([[40]]))"
      ],
      "execution_count": 0,
      "outputs": []
    },
    {
      "cell_type": "code",
      "metadata": {
        "id": "SBoEQJULpdAK",
        "colab_type": "code",
        "colab": {
          "base_uri": "https://localhost:8080/",
          "height": 34
        },
        "outputId": "3c0c8b93-bc35-400b-8643-8167e29363be"
      },
      "source": [
        "previsao"
      ],
      "execution_count": 43,
      "outputs": [
        {
          "output_type": "execute_result",
          "data": {
            "text/plain": [
              "array([[1475.15950152]])"
            ]
          },
          "metadata": {
            "tags": []
          },
          "execution_count": 43
        }
      ]
    },
    {
      "cell_type": "code",
      "metadata": {
        "id": "ZjcEHv7lp9Q1",
        "colab_type": "code",
        "colab": {
          "base_uri": "https://localhost:8080/",
          "height": 185
        },
        "outputId": "9320f8fb-f18c-4561-cb66-a9fa90e2e577"
      },
      "source": [
        "y1 = Scaler_y.inverse_transform(y)\n",
        "y1"
      ],
      "execution_count": 46,
      "outputs": [
        {
          "output_type": "execute_result",
          "data": {
            "text/plain": [
              "array([[ 871.],\n",
              "       [1132.],\n",
              "       [1042.],\n",
              "       [1356.],\n",
              "       [1488.],\n",
              "       [1638.],\n",
              "       [1569.],\n",
              "       [1754.],\n",
              "       [1866.],\n",
              "       [1900.]])"
            ]
          },
          "metadata": {
            "tags": []
          },
          "execution_count": 46
        }
      ]
    },
    {
      "cell_type": "code",
      "metadata": {
        "id": "U5zrzmVVsSaG",
        "colab_type": "code",
        "colab": {
          "base_uri": "https://localhost:8080/",
          "height": 185
        },
        "outputId": "314bd376-3553-4314-9149-aad96c52d224"
      },
      "source": [
        "previsoes1 = Scaler_y.inverse_transform(previsoes)\n",
        "previsoes1"
      ],
      "execution_count": 47,
      "outputs": [
        {
          "output_type": "execute_result",
          "data": {
            "text/plain": [
              "array([[ 993.37307127],\n",
              "       [1102.86998723],\n",
              "       [1212.3669032 ],\n",
              "       [1321.86381917],\n",
              "       [1431.36073513],\n",
              "       [1540.8576511 ],\n",
              "       [1650.35456707],\n",
              "       [1759.85148303],\n",
              "       [1869.348399  ],\n",
              "       [1978.84531497]])"
            ]
          },
          "metadata": {
            "tags": []
          },
          "execution_count": 47
        }
      ]
    },
    {
      "cell_type": "code",
      "metadata": {
        "id": "CcUkl4MTsfsp",
        "colab_type": "code",
        "colab": {}
      },
      "source": [
        "from sklearn.metrics import mean_absolute_error, mean_squared_error\n",
        "mae = mean_absolute_error(y1, previsoes1)\n",
        "mse = mean_squared_error(y1, previsoes1)"
      ],
      "execution_count": 0,
      "outputs": []
    },
    {
      "cell_type": "code",
      "metadata": {
        "id": "piU6LyM_s-5g",
        "colab_type": "code",
        "colab": {
          "base_uri": "https://localhost:8080/",
          "height": 34
        },
        "outputId": "fb0d1687-bfe1-4020-993a-e7b89084f02e"
      },
      "source": [
        "mae"
      ],
      "execution_count": 50,
      "outputs": [
        {
          "output_type": "execute_result",
          "data": {
            "text/plain": [
              "67.91875458994167"
            ]
          },
          "metadata": {
            "tags": []
          },
          "execution_count": 50
        }
      ]
    },
    {
      "cell_type": "code",
      "metadata": {
        "id": "weoQUZxUtCRW",
        "colab_type": "code",
        "colab": {
          "base_uri": "https://localhost:8080/",
          "height": 34
        },
        "outputId": "02ef3a99-920a-4728-e1b2-bf55304279a1"
      },
      "source": [
        "mse"
      ],
      "execution_count": 51,
      "outputs": [
        {
          "output_type": "execute_result",
          "data": {
            "text/plain": [
              "7153.9129941765395"
            ]
          },
          "metadata": {
            "tags": []
          },
          "execution_count": 51
        }
      ]
    }
  ]
}